{
 "cells": [
  {
   "cell_type": "code",
   "execution_count": 1,
   "metadata": {},
   "outputs": [],
   "source": [
    "import SimpleITK as sitk\n",
    "import numpy as np\n",
    "import os\n",
    "import matplotlib.pyplot as plt"
   ]
  },
  {
   "cell_type": "markdown",
   "metadata": {},
   "source": [
    "### Calculate volume of segmentation"
   ]
  },
  {
   "cell_type": "code",
   "execution_count": 2,
   "metadata": {},
   "outputs": [],
   "source": [
    "# Read in image and mask\n",
    "refImg = sitk.ReadImage(\"LNDb-0001.mhd\")\n",
    "refMask = sitk.ReadImage(\"LNDb-0001_rad1.mhd\")\n",
    "\n",
    "refImgArray = sitk.GetArrayFromImage(img)\n",
    "refMaskArray = sitk.GetArrayFromImage(mask)"
   ]
  },
  {
   "cell_type": "code",
   "execution_count": 3,
   "metadata": {},
   "outputs": [
    {
     "data": {
      "text/plain": [
       "(0.607421875, 0.607421875, 1.0)"
      ]
     },
     "execution_count": 3,
     "metadata": {},
     "output_type": "execute_result"
    }
   ],
   "source": [
    "# Get voxel spacing of the image\n",
    "spacing = refImg.GetSpacing()\n",
    "spacing\n",
    "\n",
    "# # Get voxel spacing of all images\n",
    "# spacings = []\n",
    "\n",
    "# directory = os.path.join(\"c:\\\\\",\"directory path\")\n",
    "# for root,dirs,files in os.walk(directory):\n",
    "#     for file in files:\n",
    "#         if file.endswith(\".mhd\"):\n",
    "#             f=open(file, 'r')\n",
    "#             img = sitk.ReadImage(file)\n",
    "#             spacings.append(img.GetSpacing())\n",
    "#             f.close()"
   ]
  },
  {
   "cell_type": "code",
   "execution_count": 4,
   "metadata": {},
   "outputs": [
    {
     "data": {
      "text/plain": [
       "1608"
      ]
     },
     "execution_count": 4,
     "metadata": {},
     "output_type": "execute_result"
    }
   ],
   "source": [
    "# Get active pixel count\n",
    "pixelCount = np.count_nonzero(refMaskArray)\n",
    "pixelCount\n",
    "\n",
    "# # Get active pixel count of all images\n",
    "# activePixelCounts = []\n",
    "\n",
    "# directory = os.path.join(\"c:\\\\\",\"mask directory path\")\n",
    "# for root,dirs,files in os.walk(directory):\n",
    "#     for file in files:\n",
    "#         if file.endswith(\".mhd\"):\n",
    "#             f=open(\"mask directory path\" + file, 'r')\n",
    "#             seg = sitk.ReadImage(\"mask directory path\" + file)\n",
    "#             array = sitk.GetArrayFromImage(seg)\n",
    "#             pixelCount = np.count_nonzero(array)\n",
    "#             activePixelCounts.append(pixelCount)\n",
    "#             f.close()"
   ]
  },
  {
   "cell_type": "code",
   "execution_count": 5,
   "metadata": {},
   "outputs": [
    {
     "data": {
      "text/plain": [
       "593.2898254394531"
      ]
     },
     "execution_count": 5,
     "metadata": {},
     "output_type": "execute_result"
    }
   ],
   "source": [
    "# Calculate volume\n",
    "volume = pixelCount * spacing[0] * spacing[1] * spacing[2]\n",
    "volume\n",
    "\n",
    "# # Calculate volume for all images\n",
    "# volumes = []\n",
    "\n",
    "# for i in range(len(activePixelCounts)):\n",
    "#     volume = activePixelCounts[i]*spacings[i][0]*spacings[i][1]*spacings[i][2]\n",
    "#     volumes.append(volume)"
   ]
  },
  {
   "cell_type": "markdown",
   "metadata": {},
   "source": [
    "### Compare Predicted Volume to Reference Volume"
   ]
  },
  {
   "cell_type": "code",
   "execution_count": null,
   "metadata": {},
   "outputs": [],
   "source": [
    "# Calculate modified jacard index\n",
    "predMask = sitk.ReadImage(\"\") # replace with the reference mask image\n",
    "predMaskArray = sitk.GetArrayFromImage(predMask)"
   ]
  },
  {
   "cell_type": "code",
   "execution_count": null,
   "metadata": {},
   "outputs": [],
   "source": [
    "# Convert mask array to boolean values\n",
    "boolPredArray = predMaskArray[predMaskArray > 0]\n",
    "boolRefArray = refMaskArray[refMaskArray > 0]"
   ]
  },
  {
   "cell_type": "code",
   "execution_count": null,
   "metadata": {},
   "outputs": [],
   "source": [
    "# Create array showing the overlap of the two masks\n",
    "overlapArray = predMaskArray[boolRefArray] # or refMaskArray[boolPredArray], whichever gives a larger length"
   ]
  },
  {
   "cell_type": "code",
   "execution_count": null,
   "metadata": {},
   "outputs": [],
   "source": [
    "# Flatten the array\n",
    "flatArray = overlapArray.flatten()"
   ]
  },
  {
   "cell_type": "code",
   "execution_count": null,
   "metadata": {},
   "outputs": [],
   "source": [
    "# Count number of zeros in overlapArray\n",
    "# nZeros = np.count_nonzero(flatArray==0)\n",
    "VuVr = len(flatArray) # pred volume OR ref volume\n",
    "VnVr = np.count_nonzero(flatArray) # pred volume AND ref volume"
   ]
  },
  {
   "cell_type": "code",
   "execution_count": null,
   "metadata": {},
   "outputs": [],
   "source": [
    "# Calculate modified jacard index\n",
    "mji = 1 - (VnVr / VuVr) # 0 means full overlap, 1 means no overlap, so want this number closer to zero"
   ]
  }
 ],
 "metadata": {
  "kernelspec": {
   "display_name": "Python 3",
   "language": "python",
   "name": "python3"
  },
  "language_info": {
   "codemirror_mode": {
    "name": "ipython",
    "version": 3
   },
   "file_extension": ".py",
   "mimetype": "text/x-python",
   "name": "python",
   "nbconvert_exporter": "python",
   "pygments_lexer": "ipython3",
   "version": "3.7.4"
  }
 },
 "nbformat": 4,
 "nbformat_minor": 2
}
