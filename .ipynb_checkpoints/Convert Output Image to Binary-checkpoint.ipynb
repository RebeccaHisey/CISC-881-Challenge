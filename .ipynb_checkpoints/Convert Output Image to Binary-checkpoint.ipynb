{
 "cells": [
  {
   "cell_type": "code",
   "execution_count": 25,
   "metadata": {},
   "outputs": [],
   "source": [
    "import numpy as np\n",
    "import matplotlib.pyplot as plt\n",
    "import mahotas as mh\n",
    "import SimpleITK as sitk\n",
    "import pandas as pd\n",
    "from scipy.ndimage import label"
   ]
  },
  {
   "cell_type": "code",
   "execution_count": 3,
   "metadata": {},
   "outputs": [],
   "source": [
    "# Import output image\n",
    "# output = np.load(\"C:\\\\Users\\\\sindhura\\\\OneDrive - University of Waterloo\\\\Queens\\\\CISC 881\\\\Challenge Data\\\\validationOutput\\\\fold0\\\\LNDb0001-R1-F1.npy\")\n",
    "output = np.load(\"C:\\\\Users\\\\sindh\\\\OneDrive - University of Waterloo\\\\Queens\\\\CISC 881\\\\Challenge Data\\\\validationOutput\\\\fold0\\\\LNDb0001-R1-F1.npy\")\n"
   ]
  },
  {
   "cell_type": "code",
   "execution_count": 4,
   "metadata": {},
   "outputs": [
    {
     "data": {
      "text/plain": [
       "0.45339358"
      ]
     },
     "execution_count": 4,
     "metadata": {},
     "output_type": "execute_result"
    }
   ],
   "source": [
    "output.max()"
   ]
  },
  {
   "cell_type": "code",
   "execution_count": 5,
   "metadata": {},
   "outputs": [
    {
     "data": {
      "text/plain": [
       "<matplotlib.image.AxesImage at 0x1c6ff099978>"
      ]
     },
     "execution_count": 5,
     "metadata": {},
     "output_type": "execute_result"
    },
    {
     "data": {
      "image/png": "[encoded data removed]",
      "text/plain": [
       "<Figure size 432x288 with 1 Axes>"
      ]
     },
     "metadata": {
      "needs_background": "light"
     },
     "output_type": "display_data"
    }
   ],
   "source": [
    "plt.imshow(output[40])"
   ]
  },
  {
   "cell_type": "code",
   "execution_count": 6,
   "metadata": {},
   "outputs": [],
   "source": [
    "binImg = np.copy(output)\n"
   ]
  },
  {
   "cell_type": "code",
   "execution_count": 7,
   "metadata": {},
   "outputs": [],
   "source": [
    "binImg *= 255.0/binImg.max() "
   ]
  },
  {
   "cell_type": "code",
   "execution_count": 8,
   "metadata": {},
   "outputs": [],
   "source": [
    "intBinImg = binImg.astype(np.uint8)"
   ]
  },
  {
   "cell_type": "code",
   "execution_count": 9,
   "metadata": {},
   "outputs": [],
   "source": [
    "otsuThresh = mh.otsu(intBinImg[20])"
   ]
  },
  {
   "cell_type": "code",
   "execution_count": 10,
   "metadata": {},
   "outputs": [
    {
     "data": {
      "text/plain": [
       "64"
      ]
     },
     "execution_count": 10,
     "metadata": {},
     "output_type": "execute_result"
    }
   ],
   "source": [
    "otsuThresh"
   ]
  },
  {
   "cell_type": "code",
   "execution_count": 11,
   "metadata": {},
   "outputs": [
    {
     "data": {
      "text/plain": [
       "<matplotlib.image.AxesImage at 0x1c6fe723e48>"
      ]
     },
     "execution_count": 11,
     "metadata": {},
     "output_type": "execute_result"
    },
    {
     "data": {
      "image/png": "[encoded data removed]",
      "text/plain": [
       "<Figure size 432x288 with 1 Axes>"
      ]
     },
     "metadata": {
      "needs_background": "light"
     },
     "output_type": "display_data"
    }
   ],
   "source": [
    "plt.imshow(intBinImg[20] > otsuThresh)"
   ]
  },
  {
   "cell_type": "code",
   "execution_count": 12,
   "metadata": {},
   "outputs": [
    {
     "data": {
      "text/plain": [
       "217"
      ]
     },
     "execution_count": 12,
     "metadata": {},
     "output_type": "execute_result"
    }
   ],
   "source": [
    "intBinImg[20].max()"
   ]
  },
  {
   "cell_type": "code",
   "execution_count": 18,
   "metadata": {},
   "outputs": [],
   "source": [
    "# intBinImg[20] = intBinImg[20] > otsuThresh"
   ]
  },
  {
   "cell_type": "code",
   "execution_count": 19,
   "metadata": {},
   "outputs": [
    {
     "data": {
      "text/plain": [
       "array([[0, 0, 0, ..., 0, 0, 0],\n",
       "       [0, 0, 0, ..., 0, 0, 0],\n",
       "       [0, 0, 0, ..., 0, 0, 0],\n",
       "       ...,\n",
       "       [0, 0, 0, ..., 0, 0, 0],\n",
       "       [0, 0, 0, ..., 0, 0, 0],\n",
       "       [0, 0, 0, ..., 0, 0, 0]], dtype=uint8)"
      ]
     },
     "execution_count": 19,
     "metadata": {},
     "output_type": "execute_result"
    }
   ],
   "source": [
    "intBinImg[20]"
   ]
  },
  {
   "cell_type": "code",
   "execution_count": 13,
   "metadata": {},
   "outputs": [],
   "source": [
    "for i in range(intBinImg.shape[2]):\n",
    "    otsuThreshVal = mh.otsu(intBinImg[i])\n",
    "    intBinImg[i] = intBinImg[i] > otsuThreshVal"
   ]
  },
  {
   "cell_type": "code",
   "execution_count": 14,
   "metadata": {},
   "outputs": [
    {
     "data": {
      "text/plain": [
       "<matplotlib.image.AxesImage at 0x1c6ff3dd0f0>"
      ]
     },
     "execution_count": 14,
     "metadata": {},
     "output_type": "execute_result"
    },
    {
     "data": {
      "image/png": "[encoded data removed]",
      "text/plain": [
       "<Figure size 432x288 with 1 Axes>"
      ]
     },
     "metadata": {
      "needs_background": "light"
     },
     "output_type": "display_data"
    }
   ],
   "source": [
    "plt.imshow(intBinImg[40])"
   ]
  },
  {
   "cell_type": "code",
   "execution_count": 16,
   "metadata": {},
   "outputs": [
    {
     "data": {
      "text/plain": [
       "array([0, 1], dtype=uint8)"
      ]
     },
     "execution_count": 16,
     "metadata": {},
     "output_type": "execute_result"
    }
   ],
   "source": [
    "np.unique(intBinImg)"
   ]
  },
  {
   "cell_type": "code",
   "execution_count": 25,
   "metadata": {},
   "outputs": [
    {
     "name": "stdout",
     "output_type": "stream",
     "text": [
      "3\n"
     ]
    },
    {
     "data": {
      "text/plain": [
       "<matplotlib.image.AxesImage at 0x1b9489e5b88>"
      ]
     },
     "execution_count": 25,
     "metadata": {},
     "output_type": "execute_result"
    },
    {
     "data": {
      "image/png": "[encoded data removed]",
      "text/plain": [
       "<Figure size 432x288 with 1 Axes>"
      ]
     },
     "metadata": {
      "needs_background": "light"
     },
     "output_type": "display_data"
    }
   ],
   "source": [
    "labeled, nNodules = mh.label(intBinImg[20])\n",
    "print(nNodules)\n",
    "plt.imshow(labeled)"
   ]
  },
  {
   "cell_type": "code",
   "execution_count": 30,
   "metadata": {},
   "outputs": [
    {
     "name": "stdout",
     "output_type": "stream",
     "text": [
      "3\n"
     ]
    },
    {
     "data": {
      "text/plain": [
       "<matplotlib.image.AxesImage at 0x1b948b6ab88>"
      ]
     },
     "execution_count": 30,
     "metadata": {},
     "output_type": "execute_result"
    },
    {
     "data": {
      "image/png": "[encoded data removed]",
      "text/plain": [
       "<Figure size 432x288 with 1 Axes>"
      ]
     },
     "metadata": {
      "needs_background": "light"
     },
     "output_type": "display_data"
    }
   ],
   "source": [
    "intBinImg[20], nNodules = mh.label(intBinImg[20])\n",
    "print(nNodules)\n",
    "plt.imshow(intBinImg[20])"
   ]
  },
  {
   "cell_type": "code",
   "execution_count": 53,
   "metadata": {},
   "outputs": [
    {
     "data": {
      "text/plain": [
       "1"
      ]
     },
     "execution_count": 53,
     "metadata": {},
     "output_type": "execute_result"
    }
   ],
   "source": [
    "centroid = intBinImg[40,40,40]\n",
    "centroid"
   ]
  },
  {
   "cell_type": "code",
   "execution_count": 54,
   "metadata": {},
   "outputs": [
    {
     "data": {
      "text/plain": [
       "array([0, 1, 2, 3], dtype=uint8)"
      ]
     },
     "execution_count": 54,
     "metadata": {},
     "output_type": "execute_result"
    }
   ],
   "source": [
    "segs = np.unique(intBinImg[20])\n",
    "segs"
   ]
  },
  {
   "cell_type": "code",
   "execution_count": 55,
   "metadata": {},
   "outputs": [],
   "source": [
    "intBinImg[20][intBinImg[20] == 2] = 0"
   ]
  },
  {
   "cell_type": "code",
   "execution_count": 56,
   "metadata": {},
   "outputs": [
    {
     "data": {
      "text/plain": [
       "array([0, 1, 3], dtype=uint8)"
      ]
     },
     "execution_count": 56,
     "metadata": {},
     "output_type": "execute_result"
    }
   ],
   "source": [
    "np.unique(intBinImg[20])"
   ]
  },
  {
   "cell_type": "code",
   "execution_count": 59,
   "metadata": {},
   "outputs": [
    {
     "data": {
      "text/plain": [
       "range(0, 4)"
      ]
     },
     "execution_count": 59,
     "metadata": {},
     "output_type": "execute_result"
    }
   ],
   "source": [
    "range(len(segs))"
   ]
  },
  {
   "cell_type": "code",
   "execution_count": 60,
   "metadata": {},
   "outputs": [
    {
     "data": {
      "text/plain": [
       "<matplotlib.image.AxesImage at 0x1b94c46e988>"
      ]
     },
     "execution_count": 60,
     "metadata": {},
     "output_type": "execute_result"
    },
    {
     "data": {
      "image/png": "[encoded data removed]",
      "text/plain": [
       "<Figure size 432x288 with 1 Axes>"
      ]
     },
     "metadata": {
      "needs_background": "light"
     },
     "output_type": "display_data"
    }
   ],
   "source": [
    "plt.imshow(intBinImg[20])"
   ]
  },
  {
   "cell_type": "code",
   "execution_count": 17,
   "metadata": {},
   "outputs": [],
   "source": [
    "def thresholdCube(outputArray):\n",
    "    \"\"\"\n",
    "    Author: Sindhura Thirumal\n",
    "    Takes in array outputted by trainModel and thresholds to create a binary image.\n",
    "    Output is a label array of each of the nodules in the cube\n",
    "    \"\"\"\n",
    "    outputArray *= 255.0/outputArray.max()  # Scale image to be in range 0-255\n",
    "    intImg = outputArray.astype(np.uint8)   # Convert data type of array to uint8\n",
    "    for i in range(intImg.shape[2]):\n",
    "        otsuThreshVal = mh.otsu(intImg[i])  # Otsu thresholding\n",
    "        intImg[i] = intImg[i] > otsuThreshVal\n",
    "        intImg[i], nNodules = mh.label(intImg[i])   # Label the segmentation based on nodule\n",
    "    return intImg"
   ]
  },
  {
   "cell_type": "code",
   "execution_count": 23,
   "metadata": {},
   "outputs": [],
   "source": [
    "# Define a 3D structure for the labeling tool\n",
    "str_3D=np.array([[[0, 0, 0],\n",
    "    [0, 0, 0],\n",
    "    [0, 0, 0]],\n",
    "\n",
    "   [[0, 1, 0],\n",
    "    [1, 1, 1],\n",
    "    [0, 1, 0]],\n",
    "\n",
    "   [[0, 0, 0],\n",
    "    [0, 0, 0],\n",
    "    [0, 0, 0]]], dtype='uint8')"
   ]
  },
  {
   "cell_type": "code",
   "execution_count": 51,
   "metadata": {},
   "outputs": [],
   "source": [
    "newLabel, nSegs = label(intBinImg,structure=str_3D)"
   ]
  },
  {
   "cell_type": "code",
   "execution_count": 52,
   "metadata": {},
   "outputs": [
    {
     "data": {
      "text/plain": [
       "array([[[  1,   0,   0, ...,   0,   0,   3],\n",
       "        [  0,   0,   0, ...,   0,   0,   0],\n",
       "        [  4,   0,   0, ...,   0,   0,   0],\n",
       "        ...,\n",
       "        [ 15,   0,   0, ...,   0,   0,   0],\n",
       "        [ 15,   0,   0, ...,   0,   0,  16],\n",
       "        [ 15,   0,  17, ...,   0,  16,  16]],\n",
       "\n",
       "       [[  0,   0,   0, ...,   0,   0,   0],\n",
       "        [  0,   0,   0, ...,   0,   0,   0],\n",
       "        [  0,   0,   0, ...,   0,   0,   0],\n",
       "        ...,\n",
       "        [  0,   0,   0, ...,   0,   0,   0],\n",
       "        [  0,   0,   0, ...,   0,   0,   0],\n",
       "        [ 19,   0,   0, ...,   0,   0,  20]],\n",
       "\n",
       "       [[ 21,   0,   0, ...,   0,   0,  22],\n",
       "        [  0,   0,   0, ...,   0,   0,   0],\n",
       "        [  0,   0,   0, ...,   0,   0,   0],\n",
       "        ...,\n",
       "        [  0,   0,   0, ...,   0,   0,   0],\n",
       "        [  0,   0,   0, ...,   0,   0,   0],\n",
       "        [ 24,   0,   0, ...,   0,   0,  25]],\n",
       "\n",
       "       ...,\n",
       "\n",
       "       [[228,   0,   0, ...,   0,   0,   0],\n",
       "        [  0,   0,   0, ...,   0,   0,   0],\n",
       "        [  0,   0,   0, ...,   0,   0,   0],\n",
       "        ...,\n",
       "        [  0,   0,   0, ...,   0,   0,   0],\n",
       "        [  0,   0,   0, ...,   0,   0,   0],\n",
       "        [229,   0,   0, ...,   0,   0, 230]],\n",
       "\n",
       "       [[231,   0,   0, ...,   0,   0,   0],\n",
       "        [  0,   0,   0, ...,   0,   0,   0],\n",
       "        [  0,   0,   0, ...,   0,   0,   0],\n",
       "        ...,\n",
       "        [  0,   0,   0, ...,   0,   0,   0],\n",
       "        [  0,   0,   0, ...,   0,   0,   0],\n",
       "        [232,   0,   0, ...,   0,   0, 233]],\n",
       "\n",
       "       [[234,   0,   0, ...,   0,   0, 235],\n",
       "        [234,   0,   0, ...,   0,   0, 235],\n",
       "        [234,   0,   0, ...,   0,   0, 235],\n",
       "        ...,\n",
       "        [234,   0,   0, ...,   0,   0,   0],\n",
       "        [234,   0,   0, ...,   0,   0,   0],\n",
       "        [234, 234, 234, ...,   0,   0, 249]]])"
      ]
     },
     "execution_count": 52,
     "metadata": {},
     "output_type": "execute_result"
    }
   ],
   "source": [
    "newLabel"
   ]
  },
  {
   "cell_type": "code",
   "execution_count": 18,
   "metadata": {},
   "outputs": [],
   "source": [
    "def findCentroidNodule(labeledSeg):\n",
    "    \"\"\"\n",
    "    Author: Sindhura Thirumal\n",
    "    Given the labeled array of the segmentation (outputted from thresholdCube()), finds the nodule segmentation that\n",
    "    overlaps with the centroid. Deletes all other nodules within cube. Output is the resulting binary image, only containing\n",
    "    the centroid nodule.\n",
    "    \"\"\"\n",
    "    centroid = [40, 40, 40]\n",
    "    centroidSeg = labeledSeg[centroid]  # Get label of the nodule overlapping the centroid\n",
    "    for i in range(labeledSeg.shape[2]):\n",
    "        nNods = np.unique(labeledSeg[i])    # Get number of total nodules in segmentation\n",
    "        for j in range(len(nNods)):\n",
    "            if j != centroidSeg:\n",
    "                labeledSeg[i][labeledSeg[i] == j] = 0   # If nodule does not belong to centroid nodule, delete it\n",
    "    return labeledSeg"
   ]
  },
  {
   "cell_type": "code",
   "execution_count": 19,
   "metadata": {},
   "outputs": [],
   "source": [
    "labeledSeg = thresholdCube(output)"
   ]
  },
  {
   "cell_type": "code",
   "execution_count": 20,
   "metadata": {},
   "outputs": [
    {
     "data": {
      "text/plain": [
       "array([[[ 1,  0,  0, ...,  0,  0,  3],\n",
       "        [ 0,  0,  0, ...,  0,  0,  0],\n",
       "        [ 4,  0,  0, ...,  0,  0,  0],\n",
       "        ...,\n",
       "        [15,  0,  0, ...,  0,  0,  0],\n",
       "        [15,  0,  0, ...,  0,  0, 16],\n",
       "        [15,  0, 17, ...,  0, 16, 16]],\n",
       "\n",
       "       [[ 0,  0,  0, ...,  0,  0,  0],\n",
       "        [ 0,  0,  0, ...,  0,  0,  0],\n",
       "        [ 0,  0,  0, ...,  0,  0,  0],\n",
       "        ...,\n",
       "        [ 0,  0,  0, ...,  0,  0,  0],\n",
       "        [ 0,  0,  0, ...,  0,  0,  0],\n",
       "        [ 1,  0,  0, ...,  0,  0,  2]],\n",
       "\n",
       "       [[ 1,  0,  0, ...,  0,  0,  2],\n",
       "        [ 0,  0,  0, ...,  0,  0,  0],\n",
       "        [ 0,  0,  0, ...,  0,  0,  0],\n",
       "        ...,\n",
       "        [ 0,  0,  0, ...,  0,  0,  0],\n",
       "        [ 0,  0,  0, ...,  0,  0,  0],\n",
       "        [ 4,  0,  0, ...,  0,  0,  5]],\n",
       "\n",
       "       ...,\n",
       "\n",
       "       [[ 1,  0,  0, ...,  0,  0,  0],\n",
       "        [ 0,  0,  0, ...,  0,  0,  0],\n",
       "        [ 0,  0,  0, ...,  0,  0,  0],\n",
       "        ...,\n",
       "        [ 0,  0,  0, ...,  0,  0,  0],\n",
       "        [ 0,  0,  0, ...,  0,  0,  0],\n",
       "        [ 2,  0,  0, ...,  0,  0,  3]],\n",
       "\n",
       "       [[ 1,  0,  0, ...,  0,  0,  0],\n",
       "        [ 0,  0,  0, ...,  0,  0,  0],\n",
       "        [ 0,  0,  0, ...,  0,  0,  0],\n",
       "        ...,\n",
       "        [ 0,  0,  0, ...,  0,  0,  0],\n",
       "        [ 0,  0,  0, ...,  0,  0,  0],\n",
       "        [ 2,  0,  0, ...,  0,  0,  3]],\n",
       "\n",
       "       [[ 1,  0,  0, ...,  0,  0,  2],\n",
       "        [ 1,  0,  0, ...,  0,  0,  2],\n",
       "        [ 1,  0,  0, ...,  0,  0,  2],\n",
       "        ...,\n",
       "        [ 1,  0,  0, ...,  0,  0,  0],\n",
       "        [ 1,  0,  0, ...,  0,  0,  0],\n",
       "        [ 1,  1,  1, ...,  0,  0, 16]]], dtype=uint8)"
      ]
     },
     "execution_count": 20,
     "metadata": {},
     "output_type": "execute_result"
    }
   ],
   "source": [
    "labeledSeg"
   ]
  },
  {
   "cell_type": "code",
   "execution_count": 60,
   "metadata": {},
   "outputs": [
    {
     "name": "stdout",
     "output_type": "stream",
     "text": [
      "[0 1 2 3 4 5]\n"
     ]
    },
    {
     "data": {
      "text/plain": [
       "<matplotlib.image.AxesImage at 0x1c68285b1d0>"
      ]
     },
     "execution_count": 60,
     "metadata": {},
     "output_type": "execute_result"
    },
    {
     "data": {
      "image/png": "[encoded data removed]",
      "text/plain": [
       "<Figure size 432x288 with 1 Axes>"
      ]
     },
     "metadata": {
      "needs_background": "light"
     },
     "output_type": "display_data"
    }
   ],
   "source": [
    "plotting = labeledSeg[5]\n",
    "print(np.unique(plotting))\n",
    "plt.imshow(plotting)"
   ]
  }
 ],
 "metadata": {
  "kernelspec": {
   "display_name": "Python 3",
   "language": "python",
   "name": "python3"
  },
  "language_info": {
   "codemirror_mode": {
    "name": "ipython",
    "version": 3
   },
   "file_extension": ".py",
   "mimetype": "text/x-python",
   "name": "python",
   "nbconvert_exporter": "python",
   "pygments_lexer": "ipython3",
   "version": "3.7.3"
  }
 },
 "nbformat": 4,
 "nbformat_minor": 2
}
