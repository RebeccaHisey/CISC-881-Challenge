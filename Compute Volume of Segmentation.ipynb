{
 "cells": [
  {
   "cell_type": "code",
   "execution_count": 1,
   "metadata": {},
   "outputs": [],
   "source": [
    "import SimpleITK as sitk\n",
    "import numpy as np\n",
    "import os\n",
    "import matplotlib.pyplot as plt"
   ]
  },
  {
   "cell_type": "code",
   "execution_count": 2,
   "metadata": {},
   "outputs": [],
   "source": [
    "# Read in image and mask\n",
    "img = sitk.ReadImage(\"LNDb-0001.mhd\")\n",
    "mask = sitk.ReadImage(\"LNDb-0001_rad1.mhd\")\n",
    "\n",
    "imgArray = sitk.GetArrayFromImage(img)\n",
    "maskArray = sitk.GetArrayFromImage(mask)"
   ]
  },
  {
   "cell_type": "code",
   "execution_count": 3,
   "metadata": {},
   "outputs": [
    {
     "data": {
      "text/plain": [
       "(0.607421875, 0.607421875, 1.0)"
      ]
     },
     "execution_count": 3,
     "metadata": {},
     "output_type": "execute_result"
    }
   ],
   "source": [
    "# Get voxel spacing of the image\n",
    "spacing = img.GetSpacing()\n",
    "spacing\n",
    "\n",
    "# # Get voxel spacing of all images\n",
    "# spacings = []\n",
    "\n",
    "# directory = os.path.join(\"c:\\\\\",\"directory path\")\n",
    "# for root,dirs,files in os.walk(directory):\n",
    "#     for file in files:\n",
    "#         if file.endswith(\".mhd\"):\n",
    "#             f=open(file, 'r')\n",
    "#             img = sitk.ReadImage(file)\n",
    "#             spacings.append(img.GetSpacing())\n",
    "#             f.close()"
   ]
  },
  {
   "cell_type": "code",
   "execution_count": 4,
   "metadata": {},
   "outputs": [
    {
     "data": {
      "text/plain": [
       "1608"
      ]
     },
     "execution_count": 4,
     "metadata": {},
     "output_type": "execute_result"
    }
   ],
   "source": [
    "# Get active pixel count\n",
    "pixelCount = np.count_nonzero(maskArray)\n",
    "pixelCount\n",
    "\n",
    "# # Get active pixel count of all images\n",
    "# activePixelCounts = []\n",
    "\n",
    "# directory = os.path.join(\"c:\\\\\",\"mask directory path\")\n",
    "# for root,dirs,files in os.walk(directory):\n",
    "#     for file in files:\n",
    "#         if file.endswith(\".mhd\"):\n",
    "#             f=open(\"mask directory path\" + file, 'r')\n",
    "#             seg = sitk.ReadImage(\"mask directory path\" + file)\n",
    "#             array = sitk.GetArrayFromImage(seg)\n",
    "#             pixelCount = np.count_nonzero(array)\n",
    "#             activePixelCounts.append(pixelCount)\n",
    "#             f.close()"
   ]
  },
  {
   "cell_type": "code",
   "execution_count": 5,
   "metadata": {},
   "outputs": [
    {
     "data": {
      "text/plain": [
       "593.2898254394531"
      ]
     },
     "execution_count": 5,
     "metadata": {},
     "output_type": "execute_result"
    }
   ],
   "source": [
    "# Calculate volume\n",
    "volume = pixelCount * spacing[0] * spacing[1] * spacing[2]\n",
    "volume\n",
    "\n",
    "# # Calculate volume for all images\n",
    "# volumes = []\n",
    "\n",
    "# for i in range(len(activePixelCounts)):\n",
    "#     volume = activePixelCounts[i]*spacings[i][0]*spacings[i][1]*spacings[i][2]\n",
    "#     volumes.append(volume)"
   ]
  },
  {
   "cell_type": "code",
   "execution_count": null,
   "metadata": {},
   "outputs": [],
   "source": []
  }
 ],
 "metadata": {
  "kernelspec": {
   "display_name": "Python 3",
   "language": "python",
   "name": "python3"
  },
  "language_info": {
   "codemirror_mode": {
    "name": "ipython",
    "version": 3
   },
   "file_extension": ".py",
   "mimetype": "text/x-python",
   "name": "python",
   "nbconvert_exporter": "python",
   "pygments_lexer": "ipython3",
   "version": "3.7.4"
  }
 },
 "nbformat": 4,
 "nbformat_minor": 2
}
